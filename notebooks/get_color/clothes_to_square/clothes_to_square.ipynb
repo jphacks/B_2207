{
 "cells": [
  {
   "cell_type": "markdown",
   "id": "712de957",
   "metadata": {},
   "source": [
    "# 画像データの読み込み\n"
   ]
  },
  {
   "cell_type": "code",
   "execution_count": 139,
   "id": "ca802e01",
   "metadata": {},
   "outputs": [
    {
     "name": "stdout",
     "output_type": "stream",
     "text": [
      "(500, 500, 4)\n"
     ]
    },
    {
     "ename": "TypeError",
     "evalue": "Can't convert object to 'str' for 'filename'",
     "output_type": "error",
     "traceback": [
      "\u001b[0;31m---------------------------------------------------------------------------\u001b[0m",
      "\u001b[0;31mTypeError\u001b[0m                                 Traceback (most recent call last)",
      "Cell \u001b[0;32mIn [139], line 50\u001b[0m\n\u001b[1;32m     48\u001b[0m \u001b[38;5;28mprint\u001b[39m(cloth_square_img\u001b[38;5;241m.\u001b[39mshape)\n\u001b[1;32m     49\u001b[0m \u001b[38;5;66;03m#cv2.imwrite(\"cloth_square_img.png\",cloth_square_img)\u001b[39;00m\n\u001b[0;32m---> 50\u001b[0m cloth_square_img \u001b[38;5;241m=\u001b[39m \u001b[43mcv2\u001b[49m\u001b[38;5;241;43m.\u001b[39;49m\u001b[43mimread\u001b[49m\u001b[43m(\u001b[49m\u001b[43mcloth_square_img\u001b[49m\u001b[43m,\u001b[49m\u001b[43mcv2\u001b[49m\u001b[38;5;241;43m.\u001b[39;49m\u001b[43mIMREAD_COLOR\u001b[49m\u001b[43m)\u001b[49m\n\u001b[1;32m     51\u001b[0m cv2\u001b[38;5;241m.\u001b[39mimwrite(\u001b[38;5;124m\"\u001b[39m\u001b[38;5;124mcloth_square_img_noalpha.png\u001b[39m\u001b[38;5;124m\"\u001b[39m,cloth_square_img)\n",
      "\u001b[0;31mTypeError\u001b[0m: Can't convert object to 'str' for 'filename'"
     ]
    }
   ],
   "source": [
    "import cv2\n",
    "from matplotlib import pyplot as plt\n",
    "import numpy as np\n",
    "filename = \"test_images/test_image1.png\"\n",
    "img = cv2.imread(filename,-1)\n",
    "#print(img)\n",
    "img_square = cv2.resize(img,(500,500))\n",
    "\n",
    "cv2.imwrite(\"image.png\",img_square)\n",
    "# cv2.imshow('image',img)\n",
    "# cv2.waitKey(0)\n",
    "# cv2.destroyAllWindows()\n",
    "img_array = np.empty(0)\n",
    "cloth_square = np.empty(0)\n",
    "\n",
    "for i in range(img_square.shape[0]):\n",
    "    array = np.empty(0)\n",
    "    count = 0\n",
    "    for j in range(img_square.shape[1]):\n",
    "        if(img_square[i][j][3] != 0):\n",
    "            \n",
    "            #print(i)\n",
    "#             print(img[i][j])\n",
    "            array = np.append(array,img_square[i][j],axis = 0)\n",
    "            #print(array)\n",
    "            count +=1\n",
    "    if(count > 0 and cloth_square.size == 0):\n",
    "        array = array.reshape([1,count,4])\n",
    "        img_array = cv2.resize(array,(500,1))\n",
    "        cloth_square = img_array\n",
    "    elif(count > 0 and cloth_square.size > 0):\n",
    "        array = array.reshape([1,count,4])\n",
    "        img_array = cv2.resize(array,(500,1))\n",
    "        cloth_square = np.concatenate((cloth_square,img_array),axis = 0)\n",
    "\n",
    "# print(array)    \n",
    "# print(array.shape)\n",
    "#img_array = cv2.resize(array,(500,1))\n",
    "\n",
    "#         img_array = np.append(img_array,array,axis=1)\n",
    "# print(img_array)\n",
    "# print(img_array.shape)\n",
    "\n",
    "# print(cloth_square)\n",
    "# print(cloth_square.shape)\n",
    "\n",
    "cloth_square_img = cv2.resize(cloth_square,(500,500))\n",
    "print(cloth_square_img.shape)\n",
    "cv2.imwrite(\"cloth_square_img.png\",cloth_square_img)\n",
    "cloth_square_img = cv2.imread(\"cloth_square_img.png\",cv2.IMREAD_COLOR)\n",
    "cv2.imwrite(\"cloth_square_img_noalpha.png\",cloth_square_img)\n",
    "# color = ('b','g','r')\n",
    "# for i,col in enumerate(color):\n",
    "#     histr = cv2.calcHist([img],[i],None,[256],[0,256])\n",
    "#     plt.plot(histr,color = col)\n",
    "#     plt.xlim([0,256])\n",
    "# plt.show()\n",
    "# print(histr.size)"
   ]
  },
  {
   "cell_type": "code",
   "execution_count": 33,
   "id": "da619ec6",
   "metadata": {},
   "outputs": [
    {
     "name": "stdout",
     "output_type": "stream",
     "text": [
      "[]\n",
      "[1. 2. 3. 4.]\n",
      "(4,)\n",
      "4\n",
      "[[1. 2.]\n",
      " [3. 4.]]\n"
     ]
    }
   ],
   "source": [
    "import cv2\n",
    "from matplotlib import pyplot as plt\n",
    "\n",
    "filename = \"test_images/test_image1.png\"\n",
    "img = cv2.imread(filename,-1)\n",
    "img_square = cv2.resize(img,(500,500))\n",
    "# for i in range(img.shape[0]):\n",
    "#     for j in range(img.shape[1]):\n",
    "#         if(img[i][j][3] != 0):\n",
    "# #             print(img[i][j])\n",
    "\n",
    "# print(img_square)\n",
    "# print(img_square.shape)\n",
    "# cv2.imshow('image',img_square)\n",
    "# cv2.waitKey(0)\n",
    "# cv2.destroyAllWindows()\n"
   ]
  },
  {
   "cell_type": "code",
   "execution_count": 90,
   "id": "ed304b89",
   "metadata": {},
   "outputs": [
    {
     "name": "stdout",
     "output_type": "stream",
     "text": [
      "・元の配列 \n",
      " [ 1  2  3  4  5  6  7  8  9 10 11]\n",
      "・変形後の配列 \n",
      " [[[1 2 3]\n",
      "  [4 5 6]\n",
      "  [7 8 9]]]\n",
      "(1, 3, 3)\n",
      "(1, 3, 3)\n",
      "[[[ 1  2  3]\n",
      "  [ 4  5  6]\n",
      "  [ 7  8  9]\n",
      "  [10 11 10]\n",
      "  [11 10 11]\n",
      "  [10 11 10]]]\n",
      "(1, 6, 3)\n",
      "[]\n",
      "[[[0. 0. 0.]\n",
      "  [0. 0. 0.]\n",
      "  [0. 0. 0.]]]\n"
     ]
    }
   ],
   "source": [
    "import numpy as np\n",
    "a=np.arange(1, 12) \n",
    "print(\"・元の配列 \\n\",a)\n",
    "b=np.resize(a,(1,3,3))\n",
    "print(\"・変形後の配列 \\n\",ｂ)\n",
    "a=np.arange(10, 12) \n",
    "c= np.resize(a,(1,3,3))\n",
    "d = np.concatenate((b,c),axis=1)\n",
    "print(b.shape)\n",
    "print(c.shape)\n",
    "print(d)\n",
    "print(d.shape)\n",
    "test = np.empty(0)\n",
    "print(test)\n",
    "test = np.resize(test,(1,3,3))\n",
    "print(test)"
   ]
  },
  {
   "cell_type": "code",
   "execution_count": 128,
   "id": "a1d4557c",
   "metadata": {},
   "outputs": [
    {
     "data": {
      "text/plain": [
       "True"
      ]
     },
     "execution_count": 128,
     "metadata": {},
     "output_type": "execute_result"
    }
   ],
   "source": [
    "import cv2\n",
    "from matplotlib import pyplot as plt\n",
    "import numpy as np\n",
    "filename = \"test_images/test_image1.png\"\n",
    "img = cv2.imread(filename,cv2.IMREAD_COLOR)\n",
    "cv2.imwrite(\"image_no_alpha.png\",img)"
   ]
  },
  {
   "cell_type": "code",
   "execution_count": null,
   "id": "2ac6ab14",
   "metadata": {},
   "outputs": [],
   "source": []
  }
 ],
 "metadata": {
  "kernelspec": {
   "display_name": "Python 3 (ipykernel)",
   "language": "python",
   "name": "python3"
  },
  "language_info": {
   "codemirror_mode": {
    "name": "ipython",
    "version": 3
   },
   "file_extension": ".py",
   "mimetype": "text/x-python",
   "name": "python",
   "nbconvert_exporter": "python",
   "pygments_lexer": "ipython3",
   "version": "3.9.2"
  }
 },
 "nbformat": 4,
 "nbformat_minor": 5
}
